{
  "nbformat": 4,
  "nbformat_minor": 0,
  "metadata": {
    "colab": {
      "provenance": []
    },
    "kernelspec": {
      "name": "python3",
      "display_name": "Python 3"
    },
    "language_info": {
      "name": "python"
    }
  },
  "cells": [
    {
      "cell_type": "code",
      "execution_count": 2,
      "metadata": {
        "id": "GUUcqU4dmidS",
        "colab": {
          "base_uri": "https://localhost:8080/"
        },
        "outputId": "d6be29b0-0794-4634-bbb1-9e73b855c5df"
      },
      "outputs": [
        {
          "output_type": "stream",
          "name": "stdout",
          "text": [
            "2>5\n"
          ]
        }
      ],
      "source": [
        "if 5<2:\n",
        "  print(\"5 > 2\")\n",
        "else:\n",
        "  print(\"2>5\")"
      ]
    },
    {
      "cell_type": "code",
      "source": [
        "print(\"How Are you ?\")"
      ],
      "metadata": {
        "colab": {
          "base_uri": "https://localhost:8080/"
        },
        "id": "N0R4OeJSBay3",
        "outputId": "01d4c31c-7499-4cea-c416-6ea01215ad6f"
      },
      "execution_count": 3,
      "outputs": [
        {
          "output_type": "stream",
          "name": "stdout",
          "text": [
            "How Are you ?\n"
          ]
        }
      ]
    },
    {
      "cell_type": "code",
      "source": [
        "a=10\n",
        "print(a)\n",
        "print(type(a))"
      ],
      "metadata": {
        "colab": {
          "base_uri": "https://localhost:8080/"
        },
        "id": "0KkMaNIABa1b",
        "outputId": "a532de9e-6045-4c52-c010-7893cbb23c08"
      },
      "execution_count": 4,
      "outputs": [
        {
          "output_type": "stream",
          "name": "stdout",
          "text": [
            "10\n",
            "<class 'int'>\n"
          ]
        }
      ]
    },
    {
      "cell_type": "code",
      "source": [
        "b=10.879879\n",
        "print(b)\n",
        "print(type(b))"
      ],
      "metadata": {
        "colab": {
          "base_uri": "https://localhost:8080/"
        },
        "id": "0uNj1ZW7Ba3Z",
        "outputId": "be1a2e46-6443-4cb5-b661-c8b4e00bb92a"
      },
      "execution_count": 5,
      "outputs": [
        {
          "output_type": "stream",
          "name": "stdout",
          "text": [
            "10.879879\n",
            "<class 'float'>\n"
          ]
        }
      ]
    },
    {
      "cell_type": "code",
      "source": [
        "c=16j\n",
        "print(\"Complex Number\",c)\n",
        "print(type(c))"
      ],
      "metadata": {
        "colab": {
          "base_uri": "https://localhost:8080/"
        },
        "id": "TQhuyIPRBa5u",
        "outputId": "5e3dcbc8-b697-475a-dc34-986630f95521"
      },
      "execution_count": 6,
      "outputs": [
        {
          "output_type": "stream",
          "name": "stdout",
          "text": [
            "Complex Number 16j\n",
            "<class 'complex'>\n"
          ]
        }
      ]
    },
    {
      "cell_type": "code",
      "source": [
        "N = \"GOKUL\"\n",
        "print(\"My Name is \",N)\n",
        "print(len(N))\n"
      ],
      "metadata": {
        "colab": {
          "base_uri": "https://localhost:8080/"
        },
        "id": "VJUZDvs4Ba7f",
        "outputId": "2c50917b-8149-4043-e6ab-4801f3bb9b5d"
      },
      "execution_count": 7,
      "outputs": [
        {
          "output_type": "stream",
          "name": "stdout",
          "text": [
            "My Name is  GOKUL\n",
            "5\n"
          ]
        }
      ]
    },
    {
      "cell_type": "code",
      "source": [
        "s= {1,2,3,4}\n",
        "print(s)\n",
        "print(len(s))\n",
        "print(type(s))"
      ],
      "metadata": {
        "colab": {
          "base_uri": "https://localhost:8080/"
        },
        "id": "sprsn7f9Ba9t",
        "outputId": "5f20edfb-4ac9-4b87-dbe2-64f447c63c83"
      },
      "execution_count": 8,
      "outputs": [
        {
          "output_type": "stream",
          "name": "stdout",
          "text": [
            "{1, 2, 3, 4}\n",
            "4\n",
            "<class 'set'>\n"
          ]
        }
      ]
    },
    {
      "cell_type": "code",
      "source": [
        "fs=frozenset({5,78,545,4,2})\n",
        "print(fs)\n",
        "print(type(fs))\n",
        "print(len(fs))"
      ],
      "metadata": {
        "colab": {
          "base_uri": "https://localhost:8080/"
        },
        "id": "21_fGrsrBa_o",
        "outputId": "cff2b6ee-7a7d-4308-86df-e9bfbb454373"
      },
      "execution_count": 9,
      "outputs": [
        {
          "output_type": "stream",
          "name": "stdout",
          "text": [
            "frozenset({545, 2, 4, 5, 78})\n",
            "<class 'frozenset'>\n",
            "5\n"
          ]
        }
      ]
    },
    {
      "cell_type": "code",
      "source": [
        "m = True\n",
        "print(m)\n",
        "print(type(m))"
      ],
      "metadata": {
        "colab": {
          "base_uri": "https://localhost:8080/"
        },
        "id": "ktCKAX_xBbB2",
        "outputId": "d676742a-a9e2-4e9c-a608-1e019c8b3de8"
      },
      "execution_count": 10,
      "outputs": [
        {
          "output_type": "stream",
          "name": "stdout",
          "text": [
            "True\n",
            "<class 'bool'>\n"
          ]
        }
      ]
    },
    {
      "cell_type": "code",
      "source": [
        "by =b\"Gokul\"\n",
        "print(by)\n",
        "print(type(by))\n",
        "print(len(by))"
      ],
      "metadata": {
        "colab": {
          "base_uri": "https://localhost:8080/"
        },
        "id": "9kP0ck3GBbEB",
        "outputId": "9cb680da-3521-48ce-c26b-2e882b4676f8"
      },
      "execution_count": 11,
      "outputs": [
        {
          "output_type": "stream",
          "name": "stdout",
          "text": [
            "b'Gokul'\n",
            "<class 'bytes'>\n",
            "5\n"
          ]
        }
      ]
    },
    {
      "cell_type": "code",
      "source": [
        "list =[0,65,454,5]\n",
        "print(list)\n",
        "print(type(list))\n",
        "print(len(list))"
      ],
      "metadata": {
        "colab": {
          "base_uri": "https://localhost:8080/"
        },
        "id": "pfaOeLqqBbGc",
        "outputId": "6e961815-f7c8-447c-9d95-dc20aa25c73e"
      },
      "execution_count": 12,
      "outputs": [
        {
          "output_type": "stream",
          "name": "stdout",
          "text": [
            "[0, 65, 454, 5]\n",
            "<class 'list'>\n",
            "4\n"
          ]
        }
      ]
    },
    {
      "cell_type": "code",
      "source": [
        "tuple = (5,2,7,2,8,5)\n",
        "print(tuple)\n",
        "print(len(tuple))\n",
        "print(type(tuple))"
      ],
      "metadata": {
        "colab": {
          "base_uri": "https://localhost:8080/"
        },
        "id": "-jyR5fBYBp1r",
        "outputId": "73d88fbc-342a-47c7-946c-6adc046bdd80"
      },
      "execution_count": 13,
      "outputs": [
        {
          "output_type": "stream",
          "name": "stdout",
          "text": [
            "(5, 2, 7, 2, 8, 5)\n",
            "6\n",
            "<class 'tuple'>\n"
          ]
        }
      ]
    },
    {
      "cell_type": "code",
      "source": [
        "d = {\"fruit\":\"Apple\",\"Age\" : 18}\n",
        "print(d)\n",
        "print(type(d))\n",
        "print(len(d))"
      ],
      "metadata": {
        "colab": {
          "base_uri": "https://localhost:8080/"
        },
        "id": "xUxSfw2tBp33",
        "outputId": "6fcde0e8-c7d9-494c-9f8f-e10b64d9883f"
      },
      "execution_count": 14,
      "outputs": [
        {
          "output_type": "stream",
          "name": "stdout",
          "text": [
            "{'fruit': 'Apple', 'Age': 18}\n",
            "<class 'dict'>\n",
            "2\n"
          ]
        }
      ]
    },
    {
      "cell_type": "code",
      "source": [
        "z= 10\n",
        "y= 12\n",
        "x = z+y\n",
        "print(f\"The sum is {x}\")"
      ],
      "metadata": {
        "colab": {
          "base_uri": "https://localhost:8080/"
        },
        "id": "XND-XygMBp56",
        "outputId": "a9671c16-06c3-434a-da1d-b7898e6d2251"
      },
      "execution_count": 15,
      "outputs": [
        {
          "output_type": "stream",
          "name": "stdout",
          "text": [
            "The sum is 22\n"
          ]
        }
      ]
    },
    {
      "cell_type": "code",
      "source": [
        "a= 10\n",
        "d= 12\n",
        "t = z-y\n",
        "print(f\"The difference is {t}\")"
      ],
      "metadata": {
        "colab": {
          "base_uri": "https://localhost:8080/"
        },
        "id": "31OLIhapBp8A",
        "outputId": "01f04271-29fa-4b3b-9b03-8e28c5c95e4f"
      },
      "execution_count": 16,
      "outputs": [
        {
          "output_type": "stream",
          "name": "stdout",
          "text": [
            "The difference is -2\n"
          ]
        }
      ]
    },
    {
      "cell_type": "code",
      "source": [
        "z=10\n",
        "y=56\n",
        "x=y*z\n",
        "print(f\"The Product is {x}\")"
      ],
      "metadata": {
        "colab": {
          "base_uri": "https://localhost:8080/"
        },
        "id": "XdeJM5xvBp-H",
        "outputId": "b2d1f60d-b4ea-4405-8eed-2dc52f7dbcfc"
      },
      "execution_count": 17,
      "outputs": [
        {
          "output_type": "stream",
          "name": "stdout",
          "text": [
            "The Product is 560\n"
          ]
        }
      ]
    },
    {
      "cell_type": "code",
      "source": [
        "z=10\n",
        "y=56\n",
        "x=y%z\n",
        "print(f\"The Remainder is {x}\")"
      ],
      "metadata": {
        "colab": {
          "base_uri": "https://localhost:8080/"
        },
        "id": "anwvd_oqBqAP",
        "outputId": "8afdc97f-bd08-437f-880f-8def929a9750"
      },
      "execution_count": 18,
      "outputs": [
        {
          "output_type": "stream",
          "name": "stdout",
          "text": [
            "The Remainder is 6\n"
          ]
        }
      ]
    },
    {
      "cell_type": "code",
      "source": [
        "z=10\n",
        "y=56\n",
        "x=y//z\n",
        "print(f\"The quotient is {x}\")"
      ],
      "metadata": {
        "colab": {
          "base_uri": "https://localhost:8080/"
        },
        "id": "4VD9ah6mBqCW",
        "outputId": "9edd9fc7-ba87-49df-878b-51f8ebd39a24"
      },
      "execution_count": 19,
      "outputs": [
        {
          "output_type": "stream",
          "name": "stdout",
          "text": [
            "The quotient is 5\n"
          ]
        }
      ]
    },
    {
      "cell_type": "code",
      "source": [
        "x=10\n",
        "y=float(x)\n",
        "c=str(x)\n",
        "d=complex(x)\n",
        "print(f\"{y}\\n{c}\\n{d}\\n\")\n",
        "print(type(x))"
      ],
      "metadata": {
        "colab": {
          "base_uri": "https://localhost:8080/"
        },
        "id": "2kx-ZWI9BqEq",
        "outputId": "60230219-31ea-45f9-d058-1d69cca80460"
      },
      "execution_count": 20,
      "outputs": [
        {
          "output_type": "stream",
          "name": "stdout",
          "text": [
            "10.0\n",
            "10\n",
            "(10+0j)\n",
            "\n",
            "<class 'int'>\n"
          ]
        }
      ]
    },
    {
      "cell_type": "code",
      "source": [
        "string = \"Gokul\"\n",
        "string_2 = \"CSE\"\n",
        "print(len(string))\n",
        "word = string[4]\n",
        "print(word)\n",
        "concatinate = string + string_2\n",
        "print(concatinate)\n",
        "Upper = string.upper()\n",
        "print(Upper)"
      ],
      "metadata": {
        "colab": {
          "base_uri": "https://localhost:8080/"
        },
        "id": "MF9-ciOTBqGw",
        "outputId": "1fedaf1c-59d5-4a27-92da-d6df715e2054"
      },
      "execution_count": 21,
      "outputs": [
        {
          "output_type": "stream",
          "name": "stdout",
          "text": [
            "5\n",
            "l\n",
            "GokulCSE\n",
            "GOKUL\n"
          ]
        }
      ]
    },
    {
      "cell_type": "code",
      "source": [],
      "metadata": {
        "id": "WxezvNr4BqIz"
      },
      "execution_count": 62,
      "outputs": []
    },
    {
      "cell_type": "code",
      "source": [
        "try:\n",
        "  N= int(input(\"Enter neumarator number : \"))\n",
        "  D = int(input(\"Enter denominator number : \"))\n",
        "  division = N/D\n",
        "  print(division)\n",
        "except:\n",
        "  print(\"An Exception has Occurred\")\n"
      ],
      "metadata": {
        "colab": {
          "base_uri": "https://localhost:8080/"
        },
        "id": "qu1EZeiXBqK4",
        "outputId": "ddaddedf-e5e9-412d-b97d-137dc35b0548"
      },
      "execution_count": 23,
      "outputs": [
        {
          "output_type": "stream",
          "name": "stdout",
          "text": [
            "Enter neumarator number : 7\n",
            "Enter denominator number : 8\n",
            "0.875\n"
          ]
        }
      ]
    },
    {
      "cell_type": "code",
      "source": [
        "a = abs(-10)\n",
        "b = abs(5/3)\n",
        "print(b)"
      ],
      "metadata": {
        "colab": {
          "base_uri": "https://localhost:8080/"
        },
        "id": "ZPfjndsaBqNO",
        "outputId": "afd79414-5ef5-41fc-dbdd-64a324b3e350"
      },
      "execution_count": 24,
      "outputs": [
        {
          "output_type": "stream",
          "name": "stdout",
          "text": [
            "10\n",
            "1.6666666666666667\n"
          ]
        }
      ]
    },
    {
      "cell_type": "code",
      "source": [],
      "metadata": {
        "id": "mr_0HbJzGDgi"
      },
      "execution_count": null,
      "outputs": []
    },
    {
      "cell_type": "code",
      "source": [
        "print(bin(56))\n",
        "print(bin(5))\n",
        "print(bin(766))"
      ],
      "metadata": {
        "colab": {
          "base_uri": "https://localhost:8080/"
        },
        "id": "_1SRk2zyBqPR",
        "outputId": "06bdabdb-8d3c-4348-e213-72fa7afafbd2"
      },
      "execution_count": 25,
      "outputs": [
        {
          "output_type": "stream",
          "name": "stdout",
          "text": [
            "0b111000\n",
            "0b101\n",
            "0b1011111110\n"
          ]
        }
      ]
    },
    {
      "cell_type": "code",
      "source": [
        "print(dict(a='20',b='12'))"
      ],
      "metadata": {
        "colab": {
          "base_uri": "https://localhost:8080/"
        },
        "id": "yo94hpZmBqRZ",
        "outputId": "39f954b6-a5e2-4c68-dd72-63637c26a71c"
      },
      "execution_count": 26,
      "outputs": [
        {
          "output_type": "stream",
          "name": "stdout",
          "text": [
            "{'a': '20', 'b': '12'}\n"
          ]
        }
      ]
    },
    {
      "cell_type": "code",
      "source": [
        "\n",
        "mylist = [10, 20, 30, 40, 50]\n",
        "print(max(mylist))\n",
        "\n",
        "print(max(24, 12, 36))"
      ],
      "metadata": {
        "colab": {
          "base_uri": "https://localhost:8080/"
        },
        "id": "9tLf8gQEBbJ7",
        "outputId": "b09f23a9-587a-402c-a471-44e6521b1559"
      },
      "execution_count": 27,
      "outputs": [
        {
          "output_type": "stream",
          "name": "stdout",
          "text": [
            "50\n",
            "36\n"
          ]
        }
      ]
    },
    {
      "cell_type": "code",
      "source": [
        "try:\n",
        "  print(x)\n",
        "except NameError:\n",
        "  print(\"X is Not defined\")\n",
        "except:\n",
        "  print(\"Some other error occured\")"
      ],
      "metadata": {
        "colab": {
          "base_uri": "https://localhost:8080/"
        },
        "id": "32CSXZwLCB2b",
        "outputId": "ad7db368-b007-43c2-fc46-d0d534fdce1f"
      },
      "execution_count": 28,
      "outputs": [
        {
          "output_type": "stream",
          "name": "stdout",
          "text": [
            "10\n"
          ]
        }
      ]
    },
    {
      "cell_type": "code",
      "source": [
        "try:\n",
        "  print(1/0)\n",
        "except ZeroDivisionError:\n",
        "  print(\"Zero Division Error Occurred\")\n",
        "except:\n",
        "  print(\"Someother error occured\")\n",
        "else:\n",
        "  print(\"No erroe occured\")"
      ],
      "metadata": {
        "colab": {
          "base_uri": "https://localhost:8080/"
        },
        "id": "rkQGRdA7CB49",
        "outputId": "743302a7-e7cd-484d-f474-d3016170d364"
      },
      "execution_count": 29,
      "outputs": [
        {
          "output_type": "stream",
          "name": "stdout",
          "text": [
            "Zero Division Error Occurred\n"
          ]
        }
      ]
    },
    {
      "cell_type": "code",
      "source": [
        "\n",
        "def sum_of_two_numbers (a,b):\n",
        "  sum = a + b\n",
        "  print(f\"The Sum of Two Number is : {sum}\")\n",
        "\n",
        "num1 = int(input(\"Enter a :\"))\n",
        "num2 = int(input(\"Enter b :\"))\n",
        "sum_of_two_numbers(num1,num2)\n"
      ],
      "metadata": {
        "colab": {
          "base_uri": "https://localhost:8080/"
        },
        "id": "sp7YEcR_CB6u",
        "outputId": "125ae4fb-a980-42a1-a703-38039b7f7ae2"
      },
      "execution_count": 30,
      "outputs": [
        {
          "output_type": "stream",
          "name": "stdout",
          "text": [
            "Enter a :45\n",
            "Enter b :44\n",
            "The Sum of Two Number is : 89\n"
          ]
        }
      ]
    },
    {
      "cell_type": "code",
      "source": [
        "def square_a_number(a):\n",
        "  square = a * a\n",
        "  return square\n",
        "square_number = int(input(\"Enter a:\"))\n",
        "print(\"The square of the given number is \",square_a_number(square_number))"
      ],
      "metadata": {
        "colab": {
          "base_uri": "https://localhost:8080/"
        },
        "id": "6vIr3c3ACB81",
        "outputId": "b7e1805c-66b0-444c-faa9-87302e4bce2f"
      },
      "execution_count": 31,
      "outputs": [
        {
          "output_type": "stream",
          "name": "stdout",
          "text": [
            "Enter a:5\n",
            "The square of the given number is  25\n"
          ]
        }
      ]
    },
    {
      "cell_type": "code",
      "source": [],
      "metadata": {
        "id": "MaBOZcl7CB-v"
      },
      "execution_count": 34,
      "outputs": []
    },
    {
      "cell_type": "code",
      "source": [
        "class Bike:\n",
        "    name = \"\"\n",
        "    gear = 0\n",
        "\n",
        "bike1 = Bike()\n",
        "\n",
        "bike1.gear = 6\n",
        "bike1.name = \"Mountain Bike\"\n",
        "\n",
        "print(f\"Name: {bike1.name}, Gears: {bike1.gear} \")"
      ],
      "metadata": {
        "colab": {
          "base_uri": "https://localhost:8080/"
        },
        "id": "5rF17zPxCCA1",
        "outputId": "62685a2b-99ae-4a52-c183-45ca98cc4731"
      },
      "execution_count": 45,
      "outputs": [
        {
          "output_type": "stream",
          "name": "stdout",
          "text": [
            "Name: Mountain Bike, Gears: 6 \n"
          ]
        }
      ]
    },
    {
      "cell_type": "code",
      "source": [
        "class Myclass:\n",
        "\n",
        "  rollno = 0\n",
        "Divith = Myclass()\n",
        "Hari = Myclass()\n",
        "\n",
        "Divith.rollno = 39\n",
        "print(Divith.rollno)\n",
        "Hari.rollno = 38\n",
        "print(Hari.rollno)"
      ],
      "metadata": {
        "colab": {
          "base_uri": "https://localhost:8080/"
        },
        "id": "mBrmExBMCCC_",
        "outputId": "1f52e257-ad8b-4604-a7d7-6b917828d32e"
      },
      "execution_count": 48,
      "outputs": [
        {
          "output_type": "stream",
          "name": "stdout",
          "text": [
            "39\n",
            "38\n"
          ]
        }
      ]
    },
    {
      "cell_type": "code",
      "source": [
        "class Car:\n",
        "    def __init__(self, brand, model):\n",
        "        self.brand = brand\n",
        "        self.model = model\n",
        "\n",
        "car1 = Car(\"Toyota\", \"Camry\")\n",
        "car2 = Car(\"Tesla\", \"Model S\")\n",
        "\n",
        "print(car1.brand)\n",
        "print(car2.brand)"
      ],
      "metadata": {
        "colab": {
          "base_uri": "https://localhost:8080/"
        },
        "id": "sHcqcOjZCCEv",
        "outputId": "2c39f9c4-2e8c-44e5-b98c-695e291d70d6"
      },
      "execution_count": 49,
      "outputs": [
        {
          "output_type": "stream",
          "name": "stdout",
          "text": [
            "Toyota\n",
            "Tesla\n"
          ]
        }
      ]
    },
    {
      "cell_type": "code",
      "source": [
        "class Car:\n",
        "    wheels = 4\n",
        "\n",
        "    def __init__(self, brand, model):\n",
        "        self.brand = brand\n",
        "        self.model = model\n",
        "\n",
        "car1 = Car(\"Toyota\", \"Camry\")\n",
        "car2 = Car(\"Tesla\", \"Model S\")\n",
        "\n",
        "print(car1.wheels)\n",
        "print(car2.wheels)\n",
        "Car.wheels = 6\n",
        "print(car1.wheels)\n",
        "print(car2.wheels)"
      ],
      "metadata": {
        "colab": {
          "base_uri": "https://localhost:8080/"
        },
        "id": "JkIcT2uKCZmZ",
        "outputId": "20592750-e86e-4bc4-ed88-13237ffaa47b"
      },
      "execution_count": 38,
      "outputs": [
        {
          "output_type": "stream",
          "name": "stdout",
          "text": [
            "4\n",
            "4\n",
            "6\n",
            "6\n"
          ]
        }
      ]
    },
    {
      "cell_type": "code",
      "source": [
        "#Linked List\n",
        "class SinglyNode:\n",
        "  def __init__(self,value,next =None):\n",
        "    self.val = value\n",
        "    self.next = next\n",
        "  def __str__(self):\n",
        "    return str(self.val)\n",
        "Head = SinglyNode(1)\n",
        "A = SinglyNode(3)\n",
        "B = SinglyNode(7)\n",
        "C = SinglyNode(8)\n",
        "\n",
        "Head.next = A\n",
        "A.next = B\n",
        "B.next = C"
      ],
      "metadata": {
        "id": "_SVoPqcNEGCW"
      },
      "execution_count": 57,
      "outputs": []
    },
    {
      "cell_type": "code",
      "source": [
        "curr = Head\n",
        "while curr:\n",
        "  print(curr.val)\n",
        "  curr =  curr.next"
      ],
      "metadata": {
        "colab": {
          "base_uri": "https://localhost:8080/"
        },
        "id": "GnnypRDoEYKk",
        "outputId": "f2420f06-52a1-45b1-be4c-a593598be993"
      },
      "execution_count": 60,
      "outputs": [
        {
          "output_type": "stream",
          "name": "stdout",
          "text": [
            "1\n",
            "3\n",
            "7\n",
            "8\n"
          ]
        }
      ]
    },
    {
      "cell_type": "code",
      "source": [
        "a = [-3,-1,0,1,4,7]\n",
        "def Binary_search(arr,target):\n",
        "  N = len(arr)\n",
        "  L = 0\n",
        "  R = N-1\n",
        "\n",
        "  while L <= R:\n",
        "    M =(L + R)//2\n",
        "    if arr[M] == target:\n",
        "      return True\n",
        "    elif target < arr[M] :\n",
        "      R = M-1\n",
        "    else:\n",
        "      L = M+1\n",
        "\n",
        "  return False\n",
        "\n",
        "print(Binary_search(a,-2))"
      ],
      "metadata": {
        "colab": {
          "base_uri": "https://localhost:8080/"
        },
        "id": "e0PWPR0WFdcm",
        "outputId": "24d62987-6526-4c18-c6f3-bcc1cc8b129e"
      },
      "execution_count": 62,
      "outputs": [
        {
          "output_type": "stream",
          "name": "stdout",
          "text": [
            "False\n"
          ]
        }
      ]
    },
    {
      "cell_type": "code",
      "source": [
        "import numpy as np\n",
        "a = np.array([[1,2,3],[3,5,6]])\n",
        "print(a)\n",
        "print([0]+[1])"
      ],
      "metadata": {
        "colab": {
          "base_uri": "https://localhost:8080/"
        },
        "id": "r5NdAtTeCZrP",
        "outputId": "29077102-13c2-49bd-a233-5ec62a21605f"
      },
      "execution_count": 39,
      "outputs": [
        {
          "output_type": "stream",
          "name": "stdout",
          "text": [
            "[[1 2 3]\n",
            " [3 5 6]]\n",
            "[0, 1]\n"
          ]
        }
      ]
    },
    {
      "cell_type": "code",
      "source": [
        "import pandas\n",
        "\n",
        "mydataset = {\n",
        "  'cars': [\"BMW\", \"Volvo\", \"Ford\"],\n",
        "  'passings': [3, 7, 2]\n",
        "}\n",
        "\n",
        "myvar = pandas.DataFrame(mydataset)\n",
        "\n",
        "print(myvar)"
      ],
      "metadata": {
        "colab": {
          "base_uri": "https://localhost:8080/"
        },
        "id": "ALHLyBg2CZsN",
        "outputId": "fec9a52f-597a-4ad5-b0f1-fe252d81d2be"
      },
      "execution_count": 40,
      "outputs": [
        {
          "output_type": "stream",
          "name": "stdout",
          "text": [
            "    cars  passings\n",
            "0    BMW         3\n",
            "1  Volvo         7\n",
            "2   Ford         2\n"
          ]
        }
      ]
    },
    {
      "cell_type": "code",
      "source": [
        "import pandas as pd\n",
        "\n",
        "a = [1, 7, 2]\n",
        "\n",
        "myvar = pd.Series(a)\n",
        "\n",
        "print(myvar)"
      ],
      "metadata": {
        "colab": {
          "base_uri": "https://localhost:8080/"
        },
        "id": "LC4jOBhLCZtC",
        "outputId": "d4fc364f-6110-4430-c54d-b986e799ca6a"
      },
      "execution_count": 41,
      "outputs": [
        {
          "output_type": "stream",
          "name": "stdout",
          "text": [
            "0    1\n",
            "1    7\n",
            "2    2\n",
            "dtype: int64\n"
          ]
        }
      ]
    },
    {
      "cell_type": "code",
      "source": [
        "import numpy as np\n",
        "x = np.array([[[1,2,3],[3,4,5]],[[6,7,8],[9,10,11]]])\n",
        "print(x.shape)\n",
        "print(x.reshape(3,4))"
      ],
      "metadata": {
        "colab": {
          "base_uri": "https://localhost:8080/"
        },
        "id": "8yy1Fz1FCZu3",
        "outputId": "b2646d7e-fe11-4412-f762-7e253d130e53"
      },
      "execution_count": 42,
      "outputs": [
        {
          "output_type": "stream",
          "name": "stdout",
          "text": [
            "(2, 2, 3)\n",
            "[[ 1  2  3  3]\n",
            " [ 4  5  6  7]\n",
            " [ 8  9 10 11]]\n"
          ]
        }
      ]
    }
  ]
}